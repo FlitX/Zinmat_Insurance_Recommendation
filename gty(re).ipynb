{
 "cells": [
  {
   "cell_type": "code",
   "execution_count": 3,
   "metadata": {},
   "outputs": [],
   "source": [
    "from sklearn.model_selection import GridSearchCV"
   ]
  },
  {
   "cell_type": "code",
   "execution_count": null,
   "metadata": {},
   "outputs": [],
   "source": [
    "param = {\n",
    "    'iterations':[100, 250, 500, 1000]\n",
    "    'learning_rate':[0.03, 0.001, 0.093, 0.01, 0.1, 0.2, 0.3]\n",
    "    'l2_leaf_reg':[3, 1, 5, 10, 100]\n",
    "    'depth':[2,4,6,8, 10]\n",
    "    'border_count': [100, 254, 500]\n",
    "    'ctr_border_count': [5, 10, 20, 50, 100, 200, 255]\n",
    "    'class_weights':[]\n",
    "}"
   ]
  },
  {
   "cell_type": "code",
   "execution_count": null,
   "metadata": {},
   "outputs": [],
   "source": []
  }
 ],
 "metadata": {
  "kernelspec": {
   "display_name": "Python 3",
   "language": "python",
   "name": "python3"
  },
  "language_info": {
   "codemirror_mode": {
    "name": "ipython",
    "version": 3
   },
   "file_extension": ".py",
   "mimetype": "text/x-python",
   "name": "python",
   "nbconvert_exporter": "python",
   "pygments_lexer": "ipython3",
   "version": "3.7.3"
  }
 },
 "nbformat": 4,
 "nbformat_minor": 2
}
